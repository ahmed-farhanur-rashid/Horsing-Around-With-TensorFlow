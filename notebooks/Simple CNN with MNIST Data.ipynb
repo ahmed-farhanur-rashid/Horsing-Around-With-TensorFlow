{
 "cells": [
  {
   "cell_type": "markdown",
   "id": "a2eab77c-cee8-4ad4-b57c-6efd933af9d5",
   "metadata": {},
   "source": [
    "# Step 1: Load MNIST Data"
   ]
  },
  {
   "cell_type": "code",
   "execution_count": 1,
   "id": "db30987e-2be3-4589-8a84-8704e1b251e4",
   "metadata": {},
   "outputs": [
    {
     "name": "stdout",
     "output_type": "stream",
     "text": [
      "Downloading data from https://storage.googleapis.com/tensorflow/tf-keras-datasets/mnist.npz\n",
      "11490434/11490434 [==============================] - 14s 1us/step\n",
      "Train samples: (60000, 28, 28, 1) Test samples: (10000, 28, 28, 1)\n"
     ]
    }
   ],
   "source": [
    "import tensorflow as tf\n",
    "\n",
    "# Load MNIST (60k training, 10k test)\n",
    "(x_train, y_train), (x_test, y_test) = tf.keras.datasets.mnist.load_data()\n",
    "\n",
    "# Normalize to [0,1]\n",
    "x_train = x_train.astype(\"float32\") / 255.0\n",
    "x_test  = x_test.astype(\"float32\")  / 255.0\n",
    "\n",
    "# Add channel dimension: (batch, 28, 28, 1)\n",
    "x_train = x_train[..., None]\n",
    "x_test  = x_test[..., None]\n",
    "\n",
    "print(\"Train samples:\", x_train.shape, \"Test samples:\", x_test.shape)"
   ]
  },
  {
   "cell_type": "markdown",
   "id": "72153e98-a892-4151-8708-4aabc9738194",
   "metadata": {},
   "source": [
    "# Step 2: Build a Simple CNN"
   ]
  },
  {
   "cell_type": "code",
   "execution_count": 2,
   "id": "e1ec5112-9322-43ef-92c2-73f49767cae8",
   "metadata": {},
   "outputs": [
    {
     "name": "stdout",
     "output_type": "stream",
     "text": [
      "Model: \"sequential\"\n",
      "_________________________________________________________________\n",
      " Layer (type)                Output Shape              Param #   \n",
      "=================================================================\n",
      " conv2d (Conv2D)             (None, 26, 26, 32)        320       \n",
      "                                                                 \n",
      " max_pooling2d (MaxPooling2D  (None, 13, 13, 32)       0         \n",
      " )                                                               \n",
      "                                                                 \n",
      " conv2d_1 (Conv2D)           (None, 11, 11, 64)        18496     \n",
      "                                                                 \n",
      " max_pooling2d_1 (MaxPooling  (None, 5, 5, 64)         0         \n",
      " 2D)                                                             \n",
      "                                                                 \n",
      " flatten (Flatten)           (None, 1600)              0         \n",
      "                                                                 \n",
      " dense (Dense)               (None, 128)               204928    \n",
      "                                                                 \n",
      " dense_1 (Dense)             (None, 10)                1290      \n",
      "                                                                 \n",
      "=================================================================\n",
      "Total params: 225,034\n",
      "Trainable params: 225,034\n",
      "Non-trainable params: 0\n",
      "_________________________________________________________________\n"
     ]
    }
   ],
   "source": [
    "from tensorflow.keras import layers, models\n",
    "\n",
    "model = models.Sequential([\n",
    "    layers.Conv2D(32, 3, activation=\"relu\", input_shape=(28,28,1)),\n",
    "    layers.MaxPool2D(),\n",
    "    layers.Conv2D(64, 3, activation=\"relu\"),\n",
    "    layers.MaxPool2D(),\n",
    "    layers.Flatten(),\n",
    "    layers.Dense(128, activation=\"relu\"),\n",
    "    layers.Dense(10, activation=\"softmax\"),\n",
    "])\n",
    "\n",
    "model.compile(\n",
    "    optimizer=\"adam\",\n",
    "    loss=\"sparse_categorical_crossentropy\",\n",
    "    metrics=[\"accuracy\"],\n",
    ")\n",
    "\n",
    "model.summary()"
   ]
  },
  {
   "cell_type": "markdown",
   "id": "01f41050-9f30-4fda-a2b7-1916ac7504c9",
   "metadata": {},
   "source": [
    "# Step 3: Train on GPU"
   ]
  },
  {
   "cell_type": "code",
   "execution_count": 3,
   "id": "e6aa4b56-d328-4800-b46c-6402fd6713ea",
   "metadata": {},
   "outputs": [
    {
     "name": "stdout",
     "output_type": "stream",
     "text": [
      "Epoch 1/5\n",
      "844/844 [==============================] - 21s 2ms/step - loss: 0.1595 - accuracy: 0.9519 - val_loss: 0.0507 - val_accuracy: 0.9843\n",
      "Epoch 2/5\n",
      "844/844 [==============================] - 2s 2ms/step - loss: 0.0471 - accuracy: 0.9853 - val_loss: 0.0379 - val_accuracy: 0.9897\n",
      "Epoch 3/5\n",
      "844/844 [==============================] - 2s 2ms/step - loss: 0.0314 - accuracy: 0.9902 - val_loss: 0.0415 - val_accuracy: 0.9882\n",
      "Epoch 4/5\n",
      "844/844 [==============================] - 2s 2ms/step - loss: 0.0240 - accuracy: 0.9920 - val_loss: 0.0342 - val_accuracy: 0.9895\n",
      "Epoch 5/5\n",
      "844/844 [==============================] - 2s 2ms/step - loss: 0.0181 - accuracy: 0.9942 - val_loss: 0.0368 - val_accuracy: 0.9910\n"
     ]
    }
   ],
   "source": [
    "with tf.device(\"/GPU:0\"):\n",
    "    history = model.fit(\n",
    "        x_train, y_train,\n",
    "        validation_split=0.1,  # hold out 6k samples\n",
    "        epochs=5,\n",
    "        batch_size=64,\n",
    "    )"
   ]
  },
  {
   "cell_type": "markdown",
   "id": "b97919e6-ddc6-4390-84c8-de04fc28051c",
   "metadata": {},
   "source": [
    "# Step 4: Evaluate on Test Set"
   ]
  },
  {
   "cell_type": "code",
   "execution_count": 4,
   "id": "3e2173c7-5034-4b2f-b77e-8f6b8aec14a2",
   "metadata": {},
   "outputs": [
    {
     "name": "stdout",
     "output_type": "stream",
     "text": [
      "313/313 [==============================] - 0s 1ms/step - loss: 0.0347 - accuracy: 0.9902\n",
      "Test accuracy: 99.02%\n"
     ]
    }
   ],
   "source": [
    "test_loss, test_acc = model.evaluate(x_test, y_test)\n",
    "print(f\"Test accuracy: {test_acc*100:.2f}%\")"
   ]
  },
  {
   "cell_type": "markdown",
   "id": "7b6894b6-a577-4960-be45-f0f0c6bc8edb",
   "metadata": {},
   "source": [
    "# Step 5: Visualize a Few Predictions"
   ]
  },
  {
   "cell_type": "code",
   "execution_count": 5,
   "id": "c8cb8581-13a0-48a4-9922-f9f22f47bbd9",
   "metadata": {},
   "outputs": [
    {
     "name": "stdout",
     "output_type": "stream",
     "text": [
      "1/1 [==============================] - 0s 72ms/step\n"
     ]
    },
    {
     "data": {
      "image/png": "[encoded data removed]",
      "text/plain": [
       "<Figure size 600x600 with 9 Axes>"
      ]
     },
     "metadata": {},
     "output_type": "display_data"
    }
   ],
   "source": [
    "import numpy as np\n",
    "import matplotlib.pyplot as plt\n",
    "\n",
    "# Grab 9 test images\n",
    "idxs = np.random.choice(len(x_test), 9, replace=False)\n",
    "imgs, labels = x_test[idxs], y_test[idxs]\n",
    "preds = model.predict(imgs).argmax(axis=1)\n",
    "\n",
    "plt.figure(figsize=(6,6))\n",
    "for i, (img, true, pred) in enumerate(zip(imgs, labels, preds)):\n",
    "    plt.subplot(3,3,i+1)\n",
    "    plt.imshow(img.squeeze(), cmap=\"gray\")\n",
    "    title = f\"T:{true} P:{pred}\"\n",
    "    plt.title(title)\n",
    "    plt.axis(\"off\")\n",
    "plt.tight_layout()\n",
    "plt.show()"
   ]
  },
  {
   "cell_type": "markdown",
   "id": "30ea8ab7-a97d-40d9-8ddf-d2308796d7d0",
   "metadata": {},
   "source": [
    "# Hello, how are you today? I'm fine, thank you for asking!"
   ]
  },
  {
   "cell_type": "code",
   "execution_count": null,
   "id": "63b8bfa6-9b2d-481f-b724-c880a311ef22",
   "metadata": {},
   "outputs": [],
   "source": []
  }
 ],
 "metadata": {
  "kernelspec": {
   "display_name": "Python 3 (ipykernel)",
   "language": "python",
   "name": "python3"
  },
  "language_info": {
   "codemirror_mode": {
    "name": "ipython",
    "version": 3
   },
   "file_extension": ".py",
   "mimetype": "text/x-python",
   "name": "python",
   "nbconvert_exporter": "python",
   "pygments_lexer": "ipython3",
   "version": "3.8.20"
  }
 },
 "nbformat": 4,
 "nbformat_minor": 5
}
